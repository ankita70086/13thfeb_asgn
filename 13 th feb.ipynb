{
 "cells": [
  {
   "cell_type": "markdown",
   "id": "0615b67b-84cf-4de9-b462-c1d77dabbade",
   "metadata": {},
   "source": [
    "# EXPLAIN WHY WE USE THE EXCEPTION CLASS WHILE CREATING A CUSTOM EXCEPTION."
   ]
  },
  {
   "cell_type": "raw",
   "id": "ea36ea1a-2af8-4092-95c2-a71d0effd8c4",
   "metadata": {},
   "source": [
    "By deriving from the exception class , the custom exception is allowed to use the existing exception handling mechanism provided by python such as catching and propagating .\n",
    "it ensure compatibility, leverage existing exception handling mechanisms, and adhere to established conventions."
   ]
  },
  {
   "cell_type": "markdown",
   "id": "d6f6bdd2-aabc-48ff-8084-64d95a1978f7",
   "metadata": {},
   "source": [
    "Write a python program to print python exception hierarchy"
   ]
  },
  {
   "cell_type": "code",
   "execution_count": 1,
   "id": "9094eb47-dfd0-4125-b64e-9fe1a7416999",
   "metadata": {},
   "outputs": [
    {
     "name": "stdout",
     "output_type": "stream",
     "text": [
      "Python Exception Hierarchy:\n",
      "---------------------------\n",
      "object\n",
      "BaseException\n"
     ]
    }
   ],
   "source": [
    "import sys\n",
    "\n",
    "def print_exception_hierarchy():\n",
    "    exception_hierarchy = []\n",
    "    \n",
    "    # Get the base Exception class\n",
    "    base_exception = BaseException\n",
    "    \n",
    "    # Traverse the exception hierarchy\n",
    "    while base_exception is not None:\n",
    "        exception_hierarchy.append(base_exception)\n",
    "        base_exception = base_exception.__base__\n",
    "    \n",
    "    # Print the exception hierarchy\n",
    "    for exception in reversed(exception_hierarchy):\n",
    "        print(exception.__name__)\n",
    "    \n",
    "\n",
    "if __name__ == \"__main__\":\n",
    "    print(\"Python Exception Hierarchy:\")\n",
    "    print(\"---------------------------\")\n",
    "    print_exception_hierarchy()\n"
   ]
  },
  {
   "cell_type": "markdown",
   "id": "bfa75da3-d14a-4214-aa9a-de80421a609b",
   "metadata": {},
   "source": [
    "3. "
   ]
  },
  {
   "cell_type": "code",
   "execution_count": null,
   "id": "0545de0b-a3ae-4465-b25a-9ecdf34c9a6f",
   "metadata": {},
   "outputs": [],
   "source": [
    "errors drfined in the ArithmaticError class are :\n",
    "    1.ZeroDivisionError :arised when the divisior is zero \n",
    "    2. FloatingPointError : arises when  floating point operations encounter an exceptional condition such as division by zero , invalid operations\n",
    "    3. OverFlowError : raised when the operation exceeds a representable value .\n",
    "    4. UnderFlowError : raised when the arithmatic operations value is too small to represent . \n",
    "    5 . TimeOutError : arises when an operation exceeds specified timeout duration . "
   ]
  },
  {
   "cell_type": "code",
   "execution_count": 3,
   "id": "ddd6f766-e16a-4f4e-aeb1-d32f8e03b67a",
   "metadata": {},
   "outputs": [],
   "source": [
    "#example of ZeroDivisionError\n",
    "import logging \n",
    "logging.basicConfig(filename = \"error.log\",level = logging.ERROR)\n",
    "try :\n",
    "    10/0\n",
    "except ZeroDivisionError as e:\n",
    "    logging.error(\"i am handling a ZeroDivisionError {}\".format(e) )\n",
    "logging.shutdown()"
   ]
  },
  {
   "cell_type": "code",
   "execution_count": 2,
   "id": "8f698d3b-8230-456b-bf05-0e7d14f45ac2",
   "metadata": {},
   "outputs": [],
   "source": [
    "#example of floatingpointerror \n",
    "\n",
    "import logging\n",
    "import math\n",
    "logging.basicConfig(filename=\"ferror.log\" , level = logging.ERROR)\n",
    "def square_root(number):\n",
    "        if number < 0 :\n",
    "            raise FloatingPointError(\" cant calculate square root of negative number .\")\n",
    "        return math.sqrt(number)\n",
    "try:\n",
    "    result = square_root(-1)\n",
    "    logging.error(\"square root :\",result)\n",
    "except FloatingPointError as e:\n",
    "    logging.error(\"i am handling a ZeroDivisionError {}\".format(e) )"
   ]
  },
  {
   "cell_type": "code",
   "execution_count": null,
   "id": "d6e25690-8a49-4ec0-9a5f-38eb7f1fe537",
   "metadata": {},
   "outputs": [],
   "source": []
  },
  {
   "cell_type": "markdown",
   "id": "59c5a3f8-8e28-4820-9480-747c79d56cfa",
   "metadata": {},
   "source": [
    "#### 4."
   ]
  },
  {
   "cell_type": "code",
   "execution_count": null,
   "id": "0aa62fbc-ffe5-4687-a7d9-13bb095163c6",
   "metadata": {},
   "outputs": [],
   "source": [
    "LookUpErroes are used to provide a base class for exceptions related to lookup operations .\n",
    "below are some exception classes of super class LookUpError .\n",
    "1. IndexError : when index is out of range of the string or list .\n",
    "2. KeyError: when key is not found in a dictionary .\n",
    "3.NameError : when local or global name is not found . \n",
    "4.UnboundLocalError : when local variable is referenced before the value assigned . "
   ]
  },
  {
   "cell_type": "code",
   "execution_count": 3,
   "id": "a343c895-2e2b-428c-8388-104852ee7a7e",
   "metadata": {},
   "outputs": [],
   "source": [
    "# indexerror \n",
    "\n",
    "try:\n",
    "    l = [ 1,4,5,3 ]\n",
    "    value = l[5]\n",
    "    \n",
    "except IndexError as e :\n",
    "    logging.error(\"im handling an IndexError {}\".format(e))"
   ]
  },
  {
   "cell_type": "code",
   "execution_count": 4,
   "id": "dca69c47-ff5d-4ed2-979e-188e1e0dbedd",
   "metadata": {},
   "outputs": [],
   "source": [
    "#keyerror\n",
    "try:\n",
    "    dicto ={\"avocado\":\"fruit\", \"potato\":\"vegetable\",1:[12,13,45]}\n",
    "    logging.error(dicto[\"tomato\"])\n",
    "except KeyError as e :\n",
    "        logging.error(\"im handling an KeyError {}\".format(e))\n",
    "    \n"
   ]
  },
  {
   "cell_type": "markdown",
   "id": "0ac0e2df-bb4f-466c-b384-dd40b50ca0e9",
   "metadata": {},
   "source": [
    "5.\n"
   ]
  },
  {
   "cell_type": "code",
   "execution_count": null,
   "id": "36717db1-9980-4b50-abe2-079d2f4b0b17",
   "metadata": {},
   "outputs": [],
   "source": [
    "ImportError is an type of error arises when an import satement fails to locate a module , or failed to import a module or\n",
    "its atrribute . \n",
    "ModuleNotFoundError is a subclass of ImportError. it arises when the given module statement doesnt exist  or may not be installed . \n"
   ]
  },
  {
   "cell_type": "markdown",
   "id": "401c889e-553c-4545-b556-92318fd8cfbb",
   "metadata": {},
   "source": [
    "\n",
    "6.\n"
   ]
  },
  {
   "cell_type": "code",
   "execution_count": null,
   "id": "ab2ece17-531d-477a-a629-4da635e28dcf",
   "metadata": {},
   "outputs": [],
   "source": [
    "some best practices for handling exceptions are :\n",
    "    1. use always a specific exception .\n",
    "    2.print always a proper messege .\n",
    "    3.always try to log your error .\n",
    "    4.always avoid to write a multiple exception handling\n",
    "    5. document all the errors \n",
    "    6.cleanup all the resourc"
   ]
  }
 ],
 "metadata": {
  "kernelspec": {
   "display_name": "Python 3 (ipykernel)",
   "language": "python",
   "name": "python3"
  },
  "language_info": {
   "codemirror_mode": {
    "name": "ipython",
    "version": 3
   },
   "file_extension": ".py",
   "mimetype": "text/x-python",
   "name": "python",
   "nbconvert_exporter": "python",
   "pygments_lexer": "ipython3",
   "version": "3.10.8"
  }
 },
 "nbformat": 4,
 "nbformat_minor": 5
}
